{
 "cells": [
  {
   "cell_type": "markdown",
   "id": "921b0ce1",
   "metadata": {},
   "source": [
    "# Project 2"
   ]
  },
  {
   "cell_type": "code",
   "execution_count": 1,
   "id": "2e82b59c",
   "metadata": {},
   "outputs": [],
   "source": [
    "%matplotlib inline\n",
    "import numpy as np\n",
    "import matplotlib.pyplot as plt\n",
    "newparams = {'figure.figsize': (8.0, 4.0), 'axes.grid': True,\n",
    "             'lines.markersize': 8, 'lines.linewidth': 2,\n",
    "             'font.size': 14}\n",
    "plt.rcParams.update(newparams)"
   ]
  },
  {
   "cell_type": "markdown",
   "id": "161c4f9f",
   "metadata": {},
   "source": [
    "Our PDE is the following:\n",
    "$$\n",
    "\\begin{aligned}\n",
    "    -\\partial_x (\\alpha (x) \\partial_x u) + \\partial_x (b(x) u) + c(x) u = f(x), \\qquad  \\text{in } \\qquad \\Omega=(0,1)  \n",
    "\\end{aligned}\n",
    "$$\n",
    "\n",
    "From this equation we can derive the following product for $F(v)$\n",
    "$$\n",
    "\\begin{aligned}\n",
    "a(u,v) &= F(v) \\\\\n",
    "\\end{aligned}\n",
    "$$\n",
    "which can be rewritten as\n",
    "$$\n",
    "\\begin{aligned}\n",
    "a(u,v) &= \\int_0^1 \\left(\\alpha (x)u_x v_x - b(x)u v_x  + c(x)u v \\right)dx,\n",
    "\\end{aligned}\n",
    "$$\n",
    "\n",
    "We want to solve the PDE problem by creating a linear system given on the form:\n",
    "\n",
    "\n",
    "$$A \\vec U = \\vec F$$\n",
    "\n",
    "where\n",
    "$$A_{ij}=a(\\phi_j,\\phi_i),\\qquad \\vec U = [U_0 , \\dots, U_M],\\qquad \\vec F = [ F(\\phi_0), \\dots, F(\\phi_M) ]$$\n",
    "\n",
    "We chose to use local basis for $X^1_h|_{K} = \\mathbb{P}_1(K)$. We the get the following expression for our basis function in diffrenet triangulation $K_i$.\n",
    "\n",
    "\n",
    "$$\n",
    "\\mathbb{P}_1(K) = span\\{\\phi^i_0,\\phi^i_1\\} \\\\\n",
    "\\begin{aligned}\n",
    "&\\phi_{i-1}|_{K_i} =\\phi_0^i = 1- \\frac{x}{h_i}, \\qquad (\\phi_0^i)\\prime =-\\frac{1}{h_i} \\\\\n",
    "&\\phi_{i}|_{K_i} =\\phi_1^i = \\frac{x}{h_i}, \\qquad (\\phi_1^i)\\prime =+\\frac{1}{h_i} \\\\\n",
    "&\\phi_{j}|_{K_i} = 0 \\\\\n",
    "\\end{aligned}\n",
    "$$\n",
    "\n",
    "We then have to solve $a^{K_i}(\\phi_i,\\phi_j)$ for the diffrent possible interactions:\n",
    "\n",
    "$a^{K_i}(\\phi_{i},\\phi_{i})$:\n",
    "$$\n",
    "\\begin{aligned}\n",
    "a^{k_i}(\\phi_i,\\phi_i) &= \\int_{0}^{h_i} \\left(\\alpha (\\phi_1^i)\\prime (\\phi_1^i)\\prime - b (\\phi_1^i) (\\phi_1^i)\\prime  + c (\\phi_1^i) (\\phi_1^i) \\right)dx \\\\\n",
    "&=\\int_{0}^{h_i} \\left(\\alpha (\\frac{1}{h_i})(\\frac{1}{h_i})- b (\\frac{x}{h_i}) (\\frac{1}{h_i})  + c (\\frac{x}{h_i}) (\\frac{x}{h_i}) \\right)dx \\\\\n",
    "&=\\alpha \\frac{h_i}{h_i^2}- \\frac{b}{2}\\frac{h_i^2}{h_i^2}  + \\frac{c}{3}\\frac{h_i^3}{h_i^2} \\\\\n",
    "&= \\frac{\\alpha}{h_i}- \\frac{b}{2} + \\frac{c}{3}h_i \n",
    "\\end{aligned}\n",
    "$$\n",
    "\n",
    "$a^{K_i}(\\phi_{i-1},\\phi_{i-1})$:\n",
    "$$\n",
    "\\begin{aligned}\n",
    "a^{K_i}(\\phi_{i-1},\\phi_{i-1}) &= \\int_{0}^{h_i} \\left(\\alpha (\\phi_0^i)\\prime (\\phi_0^i)\\prime - b (\\phi_0^i) (\\phi_0^i)\\prime  + c (\\phi_0^i) (\\phi_0^i) \\right)dx \\\\\n",
    "&=\\int_{0}^{h_i} \\left(\\alpha (\\frac{-1}{h_i})(\\frac{-1}{h_i})- b (1-\\frac{x}{h_i}) (\\frac{-1}{h_i})  + c (1-\\frac{x}{h_i}) (1- \\frac{x}{h_i}) \\right)dx \\\\\n",
    "&= [\\frac{x}{h_i^2} - b(\\frac{-x}{h_i}+\\frac{x^2}{2h_i^2}) + c(x-\\frac{x^2}{h_i} +\\frac{x^3}{3h_i^2})]_0^1\\\\\n",
    "&=\\alpha \\frac{h_i}{h_i^2} + \\frac{b}{2}\\frac{h_i^2}{h_i^2}  + \\frac{c}{3}\\frac{h_i^3}{h_i^2} \\\\\n",
    "&= \\frac{\\alpha}{h_i} + \\frac{b}{2} + \\frac{ch_i}{3} \n",
    "\\end{aligned}\n",
    "$$\n",
    "\n",
    "$a^{K_i}(\\phi_{i-1},\\phi_{i})$:\n",
    "$$\n",
    "\\begin{aligned}\n",
    "a^{K_i}(\\phi_{i-1},\\phi_{i}) &= \\int_{0}^{h_i} \\left(\\alpha (\\phi_0^i)\\prime (\\phi_1^i)\\prime - b (\\phi_0^i) (\\phi_1^i)\\prime  + c (\\phi_0^i) (\\phi_1^i) \\right)dx \\\\\n",
    "&= \\int_{0}^{h_i} \\left(\\alpha (-\\frac{1}{h_i} \\frac{1}{h_i})- b (1- \\frac{x}{h_i}) \\frac{1}{h_i} + c (1- \\frac{x}{h_i}) \\frac{x}{h_i} \\right)dx \\\\\n",
    "&= -\\alpha (\\frac{h_i}{h_i^2})- b (\\frac{h_i}{h_i}- \\frac{h_i}{2 h_i}) + c (\\frac{h_i^2}{2h_i} - \\frac{h_i^3}{3 h_i^2}) \\\\\n",
    "&= \\frac{-\\alpha}{h_i}- \\frac{b}{2} + \\frac{c h_i}{6} \\\\\n",
    "\\end{aligned}\n",
    "$$\n",
    "\n",
    "$a^{K_i}(\\phi_{i},\\phi_{i-1})$:\n",
    "$$\n",
    "\\begin{aligned}\n",
    "a^{K_i}(\\phi_{i-1},\\phi_{i}) = \\frac{-\\alpha}{h_i} + \\frac{b}{2} + \\frac{c h_i}{6} \\\\\n",
    "\\end{aligned}\n",
    "$$\n",
    "\n",
    "\n",
    "We combine each of the rows to an expression for our matrix block $A^{k_i}$\n",
    "\n",
    "$$\n",
    "\\begin{aligned}\n",
    "A^{k_i}&=\n",
    "\\begin{bmatrix}\n",
    "a^{K_i}(\\phi_{i-1},\\phi_{i-1}) & a^{K_i}(\\phi_{i-1},\\phi_{i}) \\\\\n",
    "a^{K_i}(\\phi_{i},\\phi_{i-1}) & a^{K_i}(\\phi_{i},\\phi_{i})\n",
    "\\end{bmatrix} \\\\\n",
    "&= \\frac{\\alpha}{h_i}\n",
    "\\begin{bmatrix}\n",
    "1 & -1 \\\\\n",
    "-1 & 1 \n",
    "\\end{bmatrix}\n",
    "-\\frac{b}{2}\n",
    "\\begin{bmatrix}\n",
    "-1 & -1 \\\\\n",
    "1 & 1 \n",
    "\\end{bmatrix}\n",
    "+\\frac{ch_i}{3}\n",
    "\\begin{bmatrix}\n",
    "1 & \\frac{1}{2} \\\\\n",
    "\\frac{1}{2} & 1 \n",
    "\\end{bmatrix}\n",
    "\\end{aligned}\n",
    "$$"
   ]
  },
  {
   "cell_type": "code",
   "execution_count": 2,
   "id": "3aeaf56c",
   "metadata": {},
   "outputs": [],
   "source": [
    "def analytic_func_1(x):\n",
    "    return x*(1-x)\n",
    "\n",
    "def f_func_1(x,a,b,c):\n",
    "    return 2*a + b*(1-2*x) + c*(x-x**2)"
   ]
  },
  {
   "cell_type": "code",
   "execution_count": 3,
   "id": "4bd6d986",
   "metadata": {},
   "outputs": [],
   "source": [
    "def loc2glob(k,alpha):\n",
    "    return k+alpha          # Numbering k from 0"
   ]
  },
  {
   "cell_type": "code",
   "execution_count": 4,
   "id": "81fdcc94",
   "metadata": {
    "scrolled": true
   },
   "outputs": [],
   "source": [
    "def Assembley_algorithme(c_1, c_2, c_3, A_1, A_2, A_3, f_1, M_i, H_i, func):\n",
    "    A = np.zeros((M_i,M_i))\n",
    "    f_vec = np.zeros((M_i))\n",
    "    \n",
    "    x_grid=np.linspace(0,1,M_i)\n",
    "    f_values = func(x_grid,c_1,c_2,c_3)\n",
    "    \n",
    "    for k in range(0,(M_i-1)):\n",
    "        for alpha in range(2):\n",
    "            i=loc2glob(k,alpha)\n",
    "            for beta in range(2):\n",
    "                j = loc2glob(k,beta)\n",
    "                A[i,j] += (c_1/H_i[k])*A_1[alpha,beta] + (c_2/2)*A_2[alpha,beta] + (c_3*H_i[k]/3)*A_3[alpha,beta]\n",
    "            f_vec[i] += H_i[k]*f_1[alpha]*f_values[i]\n",
    "    return A[1:-1,1:-1], f_vec[1:-1]\n",
    "\n",
    "\n"
   ]
  },
  {
   "cell_type": "code",
   "execution_count": 5,
   "id": "c00fc84f",
   "metadata": {},
   "outputs": [],
   "source": [
    "def solver_a(a, b, c, x_grid, rhs_f):\n",
    "    M = len(x_grid)\n",
    "    T = np.transpose(np.array([x_grid[:-1],x_grid[1:]]))\n",
    "    H=x_grid[1:]-x_grid[:-1]\n",
    "    H_size = len(H)\n",
    "\n",
    "    A_1 = np.array([[1,-1],[-1,1]])\n",
    "    A_2 = np.array([[-1,1],[-1,1]])\n",
    "    A_3 = np.array([[1,1/2],[1/2,1]])\n",
    "\n",
    "    f_1 = np.array([0.5,0.5])                                               #Trapizodial methode\n",
    "    A,f= Assembley_algorithme(a,b,c,A_1,A_2,A_3,f_1,M,H, rhs_f)             #Asembly of stifness matrix and load vector\n",
    "    \n",
    "    U=np.zeros(M)\n",
    "    U[0]=0\n",
    "    U[-1]=0\n",
    "    \n",
    "    U_prime = np.linalg.solve(A,f)\n",
    "    U[1:-1] = U_prime\n",
    "\n",
    "    return U"
   ]
  },
  {
   "cell_type": "code",
   "execution_count": 6,
   "id": "1df9d591",
   "metadata": {},
   "outputs": [
    {
     "data": {
      "image/png": "[encoded data removed]",
      "text/plain": [
       "<Figure size 576x288 with 1 Axes>"
      ]
     },
     "metadata": {
      "needs_background": "light"
     },
     "output_type": "display_data"
    },
    {
     "data": {
      "image/png": "[encoded data removed]",
      "text/plain": [
       "<Figure size 576x288 with 1 Axes>"
      ]
     },
     "metadata": {
      "needs_background": "light"
     },
     "output_type": "display_data"
    }
   ],
   "source": [
    "M=11\n",
    "x_grid_test = np.array([0, 0.1, 0.3, 0.6, 0.8, 0.9, 0.95, 0.97, 1])\n",
    "x_grid = np.linspace(0,1,M)\n",
    "\n",
    "U = solver_a(1, 2, 3, x_grid, f_func_1)\n",
    "solution = analytic_func_1(x_grid)\n",
    "\n",
    "plt.figure()\n",
    "plt.title(\"Nummerical vs. excat solution \")\n",
    "plt.plot(x_grid,U,'b', label= \"Numerical\")\n",
    "plt.plot(x_grid, solution, \"r--\", label= \"Exact\")\n",
    "plt.legend(fontsize=\"10\", loc=\"upper right\")\n",
    "plt.show()\n",
    "\n",
    "plt.figure()\n",
    "plt.title(\"Error plot\")\n",
    "plt.plot(x_grid,U-solution,'b', label= \"Error\")\n",
    "plt.legend(fontsize=\"10\", loc=\"upper right\")\n",
    "plt.show()"
   ]
  },
  {
   "cell_type": "code",
   "execution_count": 13,
   "id": "7589d927",
   "metadata": {},
   "outputs": [],
   "source": [
    "#Reuse convergence-tester from lecture-code. Modify it to fit our impl\n",
    "def convergence_test_space(a, b, c, rhs_func, u_analytic, solver=solver_a):\n",
    "    P = 6\n",
    "    Hconv = np.zeros(P)\n",
    "    Kconv = np.zeros(P)\n",
    "    Econv = np.zeros(P)\n",
    "    M = 8\n",
    "    for p in range(P):\n",
    "        x_grid = np.linspace(0,1,M)\n",
    "        \n",
    "        U  = solver(1, 2, 3, x_grid, rhs_func)\n",
    "        solution = u_analytic(x_grid)\n",
    "        Eh=U-solution\n",
    "        Hconv[p] = (x_grid[1]-x_grid[0])\n",
    "        Econv[p] = np.max(np.abs(Eh))\n",
    "        M = 2*M\n",
    "\n",
    "    order = np.polyfit(np.log(Hconv),np.log(Econv),1)[0]\n",
    "    return Hconv, Econv, order"
   ]
  },
  {
   "cell_type": "code",
   "execution_count": 14,
   "id": "5e212fdd",
   "metadata": {},
   "outputs": [
    {
     "data": {
      "text/html": [
       "<div>\n",
       "<style scoped>\n",
       "    .dataframe tbody tr th:only-of-type {\n",
       "        vertical-align: middle;\n",
       "    }\n",
       "\n",
       "    .dataframe tbody tr th {\n",
       "        vertical-align: top;\n",
       "    }\n",
       "\n",
       "    .dataframe thead th {\n",
       "        text-align: right;\n",
       "    }\n",
       "</style>\n",
       "<table border=\"1\" class=\"dataframe\">\n",
       "  <thead>\n",
       "    <tr style=\"text-align: right;\">\n",
       "      <th></th>\n",
       "      <th>h</th>\n",
       "      <th>Error</th>\n",
       "      <th>Rate</th>\n",
       "    </tr>\n",
       "  </thead>\n",
       "  <tbody>\n",
       "    <tr>\n",
       "      <th>0</th>\n",
       "      <td>0.14285714</td>\n",
       "      <td>0.00188853</td>\n",
       "      <td>0.00000000</td>\n",
       "    </tr>\n",
       "    <tr>\n",
       "      <th>1</th>\n",
       "      <td>0.06666667</td>\n",
       "      <td>0.00040791</td>\n",
       "      <td>2.01080872</td>\n",
       "    </tr>\n",
       "    <tr>\n",
       "      <th>2</th>\n",
       "      <td>0.03225806</td>\n",
       "      <td>0.00009556</td>\n",
       "      <td>1.99912197</td>\n",
       "    </tr>\n",
       "    <tr>\n",
       "      <th>3</th>\n",
       "      <td>0.01587302</td>\n",
       "      <td>0.00002313</td>\n",
       "      <td>2.00056564</td>\n",
       "    </tr>\n",
       "    <tr>\n",
       "      <th>4</th>\n",
       "      <td>0.00787402</td>\n",
       "      <td>0.00000569</td>\n",
       "      <td>1.99994967</td>\n",
       "    </tr>\n",
       "    <tr>\n",
       "      <th>5</th>\n",
       "      <td>0.00392157</td>\n",
       "      <td>0.00000141</td>\n",
       "      <td>1.99999585</td>\n",
       "    </tr>\n",
       "  </tbody>\n",
       "</table>\n",
       "</div>"
      ],
      "text/plain": [
       "           h      Error       Rate\n",
       "0 0.14285714 0.00188853 0.00000000\n",
       "1 0.06666667 0.00040791 2.01080872\n",
       "2 0.03225806 0.00009556 1.99912197\n",
       "3 0.01587302 0.00002313 2.00056564\n",
       "4 0.00787402 0.00000569 1.99994967\n",
       "5 0.00392157 0.00000141 1.99999585"
      ]
     },
     "execution_count": 14,
     "metadata": {},
     "output_type": "execute_result"
    }
   ],
   "source": [
    "H_conv, E_conv, p = convergence_test_space(1, 2, 3, f_func_1, analytic_func_1, solver_a)\n",
    "\n",
    "import pandas as pd #To format the output of the notebook.  \n",
    "Rate=np.zeros(np.size(E_conv))\n",
    "Rate[1:]=np.log10(E_conv[1:]/E_conv[:-1])/np.log10(H_conv[1:]/H_conv[:-1])\n",
    "pd.options.display.float_format = '{:.8f}'.format\n",
    "df = pd.DataFrame(data={'h': H_conv, 'Error': E_conv , 'Rate':Rate}) \n",
    "df\n"
   ]
  },
  {
   "cell_type": "code",
   "execution_count": 15,
   "id": "7aec88e7",
   "metadata": {},
   "outputs": [
    {
     "data": {
      "image/png": "[encoded data removed]",
      "text/plain": [
       "<Figure size 576x288 with 1 Axes>"
      ]
     },
     "metadata": {
      "needs_background": "light"
     },
     "output_type": "display_data"
    }
   ],
   "source": [
    "plt.loglog(H_conv,E_conv,'o-', label='p={:.2f}'.format(p))\n",
    "plt.grid('on')\n",
    "plt.xlabel('h')\n",
    "plt.ylabel('error')\n",
    "plt.title(\"Linear regression: Error over stepsize\")\n",
    "plt.legend();"
   ]
  },
  {
   "cell_type": "code",
   "execution_count": null,
   "id": "b491d2b6",
   "metadata": {},
   "outputs": [],
   "source": []
  },
  {
   "cell_type": "code",
   "execution_count": null,
   "id": "ac9d4e74",
   "metadata": {},
   "outputs": [],
   "source": []
  }
 ],
 "metadata": {
  "kernelspec": {
   "display_name": "Python 3 (ipykernel)",
   "language": "python",
   "name": "python3"
  },
  "language_info": {
   "codemirror_mode": {
    "name": "ipython",
    "version": 3
   },
   "file_extension": ".py",
   "mimetype": "text/x-python",
   "name": "python",
   "nbconvert_exporter": "python",
   "pygments_lexer": "ipython3",
   "version": "3.9.7"
  }
 },
 "nbformat": 4,
 "nbformat_minor": 5
}
